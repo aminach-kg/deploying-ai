{
 "cells": [
  {
   "cell_type": "markdown",
   "id": "565997cf",
   "metadata": {},
   "source": [
    "# Structured Outputs\n",
    "\n",
    "Structured outputs are useful when model responses are passed as inputs to other components of a system. \n"
   ]
  },
  {
   "cell_type": "markdown",
   "id": "b23a0693",
   "metadata": {},
   "source": [
    "## OpenAI API Structured Output\n",
    "\n",
    "Historically, the OpenAI interface offered JSON output. However, using JSON output does not ensure adherence to a schema (data types, for example, may not be enforced). An alternative is to define the output schema using Pydantic.\n",
    "\n",
    "A useful reference is the entry on [Structured Outputs](https://platform.openai.com/docs/guides/structured-outputs) from the API Documentation."
   ]
  },
  {
   "cell_type": "markdown",
   "id": "c9bb61fa",
   "metadata": {},
   "source": [
    "[Pydantic](https://docs.pydantic.dev/latest/) is a data validation library for Python. In Pydantic, we define [Models](https://docs.pydantic.dev/latest/concepts/models/) which are classes which inherit from [`BaseModel`](https://docs.pydantic.dev/latest/api/base_model/#pydantic.BaseModel) and define [`Fields`](https://docs.pydantic.dev/latest/api/fields/#pydantic.fields.Field) as annotated attributes."
   ]
  },
  {
   "cell_type": "code",
   "execution_count": null,
   "id": "e3945daf",
   "metadata": {},
   "outputs": [],
   "source": [
    "from openai import OpenAI\n",
    "from pydantic import BaseModel\n",
    "\n",
    "client = OpenAI()\n",
    "\n",
    "class CalendarEvent(BaseModel):\n",
    "    name: str\n",
    "    date: str\n",
    "    participants: list[str]\n",
    "\n",
    "response = client.responses.parse(\n",
    "    model=\"gpt-4o-mini\",\n",
    "    input=[\n",
    "        {\"role\": \"system\", \"content\": \"Extract the event information.\"},\n",
    "        {\n",
    "            \"role\": \"user\",\n",
    "            \"content\": \"Alice and Bob are going to a science fair on Friday.\",\n",
    "        },\n",
    "    ],\n",
    "    text_format=CalendarEvent,\n",
    ")\n",
    "\n",
    "event = response.output_parsed"
   ]
  },
  {
   "cell_type": "code",
   "execution_count": null,
   "id": "0ff59da3",
   "metadata": {},
   "outputs": [],
   "source": [
    "event"
   ]
  },
  {
   "cell_type": "markdown",
   "id": "7010d03d",
   "metadata": {},
   "source": [
    "## LangChain and Pydantic\n",
    "\n",
    "LangChain offers capabilities to structure outputs following a specific schema. \n",
    "\n",
    "In the example below, we use LangChain to obtain a Joke object with a specific structure given by a Pydantic BaseModel."
   ]
  },
  {
   "cell_type": "code",
   "execution_count": null,
   "id": "399a9ac8",
   "metadata": {},
   "outputs": [],
   "source": [
    "%load_ext dotenv\n",
    "%dotenv ../../05_src/.secrets"
   ]
  },
  {
   "cell_type": "code",
   "execution_count": null,
   "id": "291a38dc",
   "metadata": {},
   "outputs": [],
   "source": [
    "        from langchain.chat_models import init_chat_model\n",
    "\n",
    "        llm = init_chat_model(\"gpt-4o-mini\", model_provider=\"openai\")"
   ]
  },
  {
   "cell_type": "code",
   "execution_count": null,
   "id": "21c07dd7",
   "metadata": {},
   "outputs": [],
   "source": [
    "from typing import Optional\n",
    "from pydantic import BaseModel, Field\n",
    "\n",
    "class Joke(BaseModel):\n",
    "    setup: str=Field(description=\"The setup of the joke\")\n",
    "    punchline: str=Field(description=\"The punchline of the joke\")\n",
    "    rating: Optional[int] = Field(\n",
    "        default=None, description=\"How funny the joke is, from 1 to 10\"\n",
    "    )\n",
    "\n",
    "structured_llm = llm.with_structured_output(Joke)\n",
    "\n",
    "jk = structured_llm.invoke(\"Tell me a joke about cats\")"
   ]
  },
  {
   "cell_type": "code",
   "execution_count": null,
   "id": "0fc755cb",
   "metadata": {},
   "outputs": [],
   "source": [
    "jk"
   ]
  },
  {
   "cell_type": "markdown",
   "id": "24efa927",
   "metadata": {},
   "source": [
    "## LangChain and TypedDict\n",
    "\n",
    "We can also use a [typed dictionary or TypedDict](https://typing.python.org/en/latest/spec/typeddict.html) in Python to define the structure of our output. The keyword `Annotated[]` is used to wrap attributes of a typed dictionary."
   ]
  },
  {
   "cell_type": "code",
   "execution_count": null,
   "id": "17cffcb1",
   "metadata": {},
   "outputs": [],
   "source": [
    "from typing import Optional\n",
    "from typing_extensions import Annotated, TypedDict\n",
    "\n",
    "class JokeDict(TypedDict):\n",
    "    setup: Annotated[str, ..., \"The setup of the joke\"] # No default, with description\n",
    "    punchline: Annotated[str, ..., \"The punchline of the joke\"] # No default, with description\n",
    "    rating: Annotated[Optional[int], None, \"How funny the joke is, from 1 to 10\"] # Default of None, with description)"
   ]
  },
  {
   "cell_type": "code",
   "execution_count": null,
   "id": "0d3ee7a1",
   "metadata": {},
   "outputs": [],
   "source": [
    "structured_llm_dict = llm.with_structured_output(JokeDict)\n",
    "jk_dict = structured_llm_dict.invoke(\"Tell me a joke about dogs\")\n"
   ]
  },
  {
   "cell_type": "code",
   "execution_count": null,
   "id": "c237e78d",
   "metadata": {},
   "outputs": [],
   "source": [
    "jk_dict"
   ]
  }
 ],
 "metadata": {
  "kernelspec": {
   "display_name": ".venv",
   "language": "python",
   "name": "python3"
  },
  "language_info": {
   "codemirror_mode": {
    "name": "ipython",
    "version": 3
   },
   "file_extension": ".py",
   "mimetype": "text/x-python",
   "name": "python",
   "nbconvert_exporter": "python",
   "pygments_lexer": "ipython3",
   "version": "3.12.7"
  }
 },
 "nbformat": 4,
 "nbformat_minor": 5
}
