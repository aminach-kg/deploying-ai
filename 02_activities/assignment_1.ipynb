{
 "cells": [
  {
   "cell_type": "markdown",
   "id": "f0928fd5",
   "metadata": {},
   "source": [
    "# Deploying AI\n",
    "## Assignment 1: Evaluating Summaries"
   ]
  },
  {
   "cell_type": "markdown",
   "id": "8f3586e4",
   "metadata": {},
   "source": [
    "A key application of LLMs is to summarize documents. In this assignment, we will not only summarize documents, but also evaluate the quality of the summary and return the results using structured outputs."
   ]
  },
  {
   "cell_type": "markdown",
   "id": "609f2fa2",
   "metadata": {},
   "source": [
    "**Instructions:** please complete the sections below stating any relevant decisions that you have made and showing the code substantiating your solution."
   ]
  },
  {
   "cell_type": "markdown",
   "id": "604f0601",
   "metadata": {},
   "source": [
    "## Select a Document\n",
    "\n",
    "Please select one out of the following articles:\n",
    "\n",
    "+ [Managing Oneself, by Peter Druker](https://www.thecompleteleader.org/sites/default/files/imce/Managing%20Oneself_Drucker_HBR.pdf)  (PDF)\n",
    "+ [The GenAI Divide: State of AI in Business 2025](https://www.artificialintelligence-news.com/wp-content/uploads/2025/08/ai_report_2025.pdf) (PDF)\n",
    "+ [What is Noise?, by Alex Ross](https://www.newyorker.com/magazine/2024/04/22/what-is-noise) (Web)"
   ]
  },
  {
   "cell_type": "markdown",
   "id": "2c125d1e",
   "metadata": {},
   "source": [
    "# Load Secrets"
   ]
  },
  {
   "cell_type": "code",
   "execution_count": 1,
   "id": "b8dbcc48",
   "metadata": {},
   "outputs": [],
   "source": [
    "%load_ext dotenv\n",
    "%dotenv ../05_src/.secrets"
   ]
  },
  {
   "cell_type": "markdown",
   "id": "7b036115",
   "metadata": {},
   "source": [
    "## Load Document\n",
    "\n",
    "Depending on your choice, you can consult the appropriate set of functions below. Make sure that you understand the content that is extracted and if you need to perform any additional operations (like joining page content).\n",
    "\n",
    "### PDF\n",
    "\n",
    "You can load a PDF by following the instructions in [LangChain's documentation](https://docs.langchain.com/oss/python/langchain/knowledge-base#loading-documents). Notice that the output of the loading procedure is a collection of pages. You can join the pages by using the code below.\n",
    "\n",
    "```python\n",
    "document_text = \"\"\n",
    "for page in docs:\n",
    "    document_text += page.page_content + \"\\n\"\n",
    "```\n",
    "\n",
    "### Web\n",
    "\n",
    "LangChain also provides a set of web loaders, including the [WebBaseLoader](https://docs.langchain.com/oss/python/integrations/document_loaders/web_base). You can use this function to load web pages."
   ]
  },
  {
   "cell_type": "code",
   "execution_count": 2,
   "id": "256159db",
   "metadata": {},
   "outputs": [],
   "source": [
    "from langchain_community.document_loaders import PyPDFLoader\n",
    "\n",
    "file_path = \"https://www.artificialintelligence-news.com/wp-content/uploads/2025/08/ai_report_2025.pdf\"\n",
    "loader = PyPDFLoader(file_path)\n",
    "\n",
    "docs = loader.load()\n",
    "\n",
    "document_text = \"\"\n",
    "for page in docs:\n",
    "    document_text += page.page_content + \"\\n\"\n"
   ]
  },
  {
   "cell_type": "markdown",
   "id": "6951b9f3",
   "metadata": {},
   "source": [
    "## Generation Task\n",
    "\n",
    "Using the OpenAI SDK, please create a **structured outut** with the following specifications:\n",
    "\n",
    "+ Use a model that is NOT in the GPT-5 family.\n",
    "+ Output should be a Pydantic BaseModel object. The fields of the object should be:\n",
    "\n",
    "    - Author\n",
    "    - Title\n",
    "    - Relevance: a statement, no longer than one paragraph, that explains why is this article relevant for an AI professional in their professional development.\n",
    "    - Summary: a concise and succinct summary no longer than 1000 tokens.\n",
    "    - Tone: the tone used to produce the summary (see below).\n",
    "    - InputTokens: number of input tokens (obtain this from the response object).\n",
    "    - OutputTokens: number of tokens in output (obtain this from the response object).\n",
    "       \n",
    "+ The summary should be written using a specific and distinguishable tone, for example,  \"Victorian English\", \"African-American Vernacular English\", \"Formal Academic Writing\", \"Bureaucratese\" ([the obscure language of beaurocrats](https://tumblr.austinkleon.com/post/4836251885)), \"Legalese\" (legal language), or any other distinguishable style of your preference. Make sure that the style is something you can identify. \n",
    "+ In your implementation please make sure to use the following:\n",
    "\n",
    "    - Instructions and context should be stored separately and the context should be added dynamically. Do not hard-code your prompt, instead use formatted strings or an equivalent technique.\n",
    "    - Use the developer (instructions) prompt and the user prompt.\n"
   ]
  },
  {
   "cell_type": "code",
   "execution_count": 4,
   "id": "87372dc1",
   "metadata": {},
   "outputs": [],
   "source": [
    "from pydantic import BaseModel, Field\n",
    "from openai import OpenAI\n",
    "\n",
    "class ArticleSummary(BaseModel):\n",
    "    author: str = Field(description=\"The author(s) of the article\")\n",
    "    title: str = Field(description=\"The title of the article\")\n",
    "    relevance: str = Field(\n",
    "        description=\"A paragraph explaining why this article is relevant for AI professionals\"\n",
    "    )\n",
    "    summary: str = Field(\n",
    "        description=\"A concise summary of the article (max 1000 tokens)\"\n",
    "    )\n",
    "    tone: str = Field(\n",
    "        description=\"The tone/style used to write the summary\"\n",
    "    )\n",
    "    input_tokens: int = Field(description=\"Number of input tokens used\")\n",
    "    output_tokens: int = Field(description=\"Number of output tokens generated\")\n",
    "    \n",
    "\n",
    "def summarize_article(article_text: str, tone: str) -> ArticleSummary:\n",
    "   \n",
    "    from langchain_openai import ChatOpenAI\n",
    "    \n",
    "    # Initialize LangChain model\n",
    "    llm = ChatOpenAI(model=\"gpt-4o-mini\", temperature=0.7)\n",
    "    \n",
    "    # Create structured output LLM\n",
    "    structured_llm = llm.with_structured_output(ArticleSummary)\n",
    "    \n",
    "    # Developer/system instructions (stored separately)\n",
    "    system_instructions = \"\"\"You are an expert article analyst specializing in AI and technology content.\n",
    "Your task is to summarize articles and provide insights for AI professionals.\n",
    "\n",
    "When summarizing articles, you must:\n",
    "1. Identify the author and title accurately\n",
    "2. Explain the relevance to AI professionals' career development\n",
    "3. Write a summary in the specified tone/style\n",
    "4. Keep summaries concise (under 1000 tokens)\n",
    "5. Ensure the tone is distinctive and consistent throughout the summary\"\"\"\n",
    "\n",
    "    # User prompt with dynamic context\n",
    "    user_prompt = f\"\"\"Please summarize the following article for an AI professional audience.\n",
    "\n",
    "**Writing Style Required:** {tone}\n",
    "\n",
    "Make sure your summary is written entirely in {tone} style - this should be clearly identifiable and consistent throughout.\n",
    "\n",
    "**Article Text:**\n",
    "{article_text}\n",
    "\n",
    "Provide:\n",
    "- Author name(s)\n",
    "- Article title  \n",
    "- Why this is relevant for AI professionals (one paragraph)\n",
    "- A summary written in {tone} style (max 1000 tokens)\n",
    "- The tone you used\"\"\"\n",
    "\n",
    "    # Create messages\n",
    "    from langchain_core.messages import SystemMessage, HumanMessage\n",
    "    \n",
    "    messages = [\n",
    "        SystemMessage(content=system_instructions),\n",
    "        HumanMessage(content=user_prompt)\n",
    "    ]\n",
    "    \n",
    "    # Invoke with structured output\n",
    "    response = structured_llm.invoke(messages)\n",
    "    \n",
    "    # Use callback to capture token usage\n",
    "    from langchain_community.callbacks import get_openai_callback\n",
    "    \n",
    "    with get_openai_callback() as cb:\n",
    "        response = structured_llm.invoke(messages)\n",
    "        \n",
    "        # Capture actual token counts from callback\n",
    "        response.input_tokens = cb.prompt_tokens\n",
    "        response.output_tokens = cb.completion_tokens\n",
    "    \n",
    "    return response\n"
   ]
  },
  {
   "cell_type": "code",
   "execution_count": 5,
   "id": "072d1295",
   "metadata": {},
   "outputs": [
    {
     "name": "stdout",
     "output_type": "stream",
     "text": [
      "{\n",
      "  \"author\": \"Aditya Challapally, Chris Pease, Ramesh Raskar, Pradyumna Chari\",\n",
      "  \"title\": \"The GenAI Divide: State of AI in Business 2025\",\n",
      "  \"relevance\": \"This article is highly pertinent to AI professionals as it elucidates the current landscape of generative AI (GenAI) adoption within various enterprises. It highlights the stark contrast between the high levels of GenAI tool adoption and the lack of substantial transformation in business outcomes, referred to as the 'GenAI Divide.' By identifying key barriers to successful implementation and detailing the characteristics of organizations that effectively cross this divide, AI professionals can glean insights into strategies for enhancing AI deployment in their own organizations. Furthermore, the article emphasizes the importance of adaptive learning systems and the need for AI tools to integrate seamlessly into existing workflows, which are critical considerations for professionals in the field.\",\n",
      "  \"summary\": \"The article 'The GenAI Divide: State of AI in Business 2025' presents a comprehensive analysis of the current state of generative AI (GenAI) adoption across various industries, revealing a significant disparity between the high levels of adoption and the low rates of transformative impact on business outcomes. Despite substantial investments, approximately $30\\u201340 billion, in GenAI initiatives, the findings indicate that 95% of organizations fail to realize any return on investment (ROI), thus coining the term 'GenAI Divide.' The authors assert that this divide is not primarily attributable to model quality or regulatory constraints but rather to inadequate approaches in implementing GenAI tools.\\n\\nThe report identifies four critical patterns contributing to the divide: limited disruption across sectors, the enterprise paradox wherein larger firms pilot numerous tools but struggle to scale, investment biases favoring visible outcomes over high-return back-office applications, and the greater success of external partnerships compared to internal builds. The core obstacle to scaling GenAI solutions is identified as a learning gap, where most systems lack the ability to adapt and learn from context over time.\\n\\nMoreover, the article discusses the phenomenon of a 'shadow AI economy,' where employees utilize personal AI tools independently of formal enterprise initiatives, often achieving better results. This trend underscores the necessity for organizations to recognize and integrate successful personal tool usage into corporate strategies. The authors also highlight the skewed allocation of investment, with a majority directed towards sales and marketing functions, often at the expense of back-office automation, which may yield higher ROI.\\n\\nTo effectively traverse the GenAI Divide, the article recommends that organizations adopt a collaborative approach to AI procurement, treating vendors as partners and demanding deep customization aligned with operational workflows. Successful organizations empower line managers to drive adoption and focus on tools that are capable of continuous learning and integration into existing processes. The findings culminate in a call to action for enterprises to pivot towards agents capable of memory retention and learning, ultimately fostering an interconnected 'Agentic Web' that can autonomously navigate and optimize workflows across diverse platforms. The insights provided in this report are crucial for AI professionals seeking to navigate the complexities of AI implementation and drive measurable business impact.\",\n",
      "  \"tone\": \"Formal Academic Writing\",\n",
      "  \"input_tokens\": 11067,\n",
      "  \"output_tokens\": 627\n",
      "}\n"
     ]
    }
   ],
   "source": [
    "\n",
    "result = summarize_article(document_text, tone=\"Formal Academic Writing\")\n",
    "import json\n",
    "print(json.dumps(result.model_dump(), indent=2))"
   ]
  },
  {
   "cell_type": "markdown",
   "id": "ec1e63f8",
   "metadata": {},
   "source": [
    "# Evaluate the Summary\n",
    "\n",
    "Use the DeepEval library to evaluate the **summary** as follows:\n",
    "\n",
    "+ Summarization Metric:\n",
    "\n",
    "    - Use the [Summarization metric](https://deepeval.com/docs/metrics-summarization) with a **bespoke** set of assessment questions.\n",
    "    - Please use, at least, five assessment questions.\n",
    "\n",
    "+ G-Eval metrics:\n",
    "\n",
    "    - In addition to the standard summarization metric above, please implement three evaluation metrics: \n",
    "    \n",
    "        - [Coherence or clarity](https://deepeval.com/docs/metrics-llm-evals#coherence)\n",
    "        - [Tonality](https://deepeval.com/docs/metrics-llm-evals#tonality)\n",
    "        - [Safety](https://deepeval.com/docs/metrics-llm-evals#safety)\n",
    "\n",
    "    - For each one of the metrics above, implement five assessment questions.\n",
    "\n",
    "+ The output should be structured and contain one key-value pair to report the score and another pair to report the explanation:\n",
    "\n",
    "    - SummarizationScore\n",
    "    - SummarizationReason\n",
    "    - CoherenceScore\n",
    "    - CoherenceReason\n",
    "    - ..."
   ]
  },
  {
   "cell_type": "markdown",
   "id": "8d1b2ff7",
   "metadata": {},
   "source": []
  },
  {
   "cell_type": "code",
   "execution_count": 9,
   "id": "99560b73",
   "metadata": {},
   "outputs": [
    {
     "data": {
      "application/vnd.jupyter.widget-view+json": {
       "model_id": "b74f881370dc447680873af2f26d51cb",
       "version_major": 2,
       "version_minor": 0
      },
      "text/plain": [
       "Output()"
      ]
     },
     "metadata": {},
     "output_type": "display_data"
    },
    {
     "data": {
      "text/html": [
       "<pre style=\"white-space:pre;overflow-x:auto;line-height:normal;font-family:Menlo,'DejaVu Sans Mono',consolas,'Courier New',monospace\"></pre>\n"
      ],
      "text/plain": []
     },
     "metadata": {},
     "output_type": "display_data"
    },
    {
     "data": {
      "application/vnd.jupyter.widget-view+json": {
       "model_id": "869092b63a7d456a952bcbf6e38462b8",
       "version_major": 2,
       "version_minor": 0
      },
      "text/plain": [
       "Output()"
      ]
     },
     "metadata": {},
     "output_type": "display_data"
    },
    {
     "data": {
      "text/html": [
       "<pre style=\"white-space:pre;overflow-x:auto;line-height:normal;font-family:Menlo,'DejaVu Sans Mono',consolas,'Courier New',monospace\"></pre>\n"
      ],
      "text/plain": []
     },
     "metadata": {},
     "output_type": "display_data"
    },
    {
     "data": {
      "application/vnd.jupyter.widget-view+json": {
       "model_id": "9441b303cd55474ca69088d5b8d7b313",
       "version_major": 2,
       "version_minor": 0
      },
      "text/plain": [
       "Output()"
      ]
     },
     "metadata": {},
     "output_type": "display_data"
    },
    {
     "data": {
      "text/html": [
       "<pre style=\"white-space:pre;overflow-x:auto;line-height:normal;font-family:Menlo,'DejaVu Sans Mono',consolas,'Courier New',monospace\"></pre>\n"
      ],
      "text/plain": []
     },
     "metadata": {},
     "output_type": "display_data"
    },
    {
     "data": {
      "application/vnd.jupyter.widget-view+json": {
       "model_id": "b8ae9f787789420d874c81f9bc074885",
       "version_major": 2,
       "version_minor": 0
      },
      "text/plain": [
       "Output()"
      ]
     },
     "metadata": {},
     "output_type": "display_data"
    },
    {
     "data": {
      "text/html": [
       "<pre style=\"white-space:pre;overflow-x:auto;line-height:normal;font-family:Menlo,'DejaVu Sans Mono',consolas,'Courier New',monospace\"></pre>\n"
      ],
      "text/plain": []
     },
     "metadata": {},
     "output_type": "display_data"
    },
    {
     "name": "stdout",
     "output_type": "stream",
     "text": [
      "{\n",
      "  \"summarization_score\": 0.5714285714285714,\n",
      "  \"summarization_reason\": \"The score is 0.57 because the summary includes several pieces of extra information that were not present in the original text, which may lead to misinterpretation or an incomplete understanding of the original content.\",\n",
      "  \"coherence_score\": 0.8186927112777228,\n",
      "  \"coherence_reason\": \"The summary presents a logical flow of ideas, moving from the introduction of the GenAI Divide to specific patterns and recommendations. Transitions between concepts are generally smooth, although some sections could benefit from clearer connections. The organization is clear, with distinct sections addressing different aspects of the topic. Pronouns and references are mostly unambiguous, but there are moments where clarity could be improved. The focus remains consistent throughout, with minimal digressions, effectively maintaining the reader's attention on the main themes.\",\n",
      "  \"tonality_score\": 0.8817574473971188,\n",
      "  \"tonality_reason\": \"The summary effectively employs Formal Academic Writing style, utilizing appropriate vocabulary and complex sentence structures that align with academic conventions. The tone remains consistent throughout, maintaining a formal register without mixing styles. The distinctive elements, such as the analysis of the 'GenAI Divide' and the recommendations for organizations, clearly convey the intended tone and purpose of the article. However, minor improvements in sentence variety could enhance readability.\",\n",
      "  \"safety_score\": 0.8644041054068484,\n",
      "  \"safety_reason\": \"The content is free from harmful or offensive material and presents a responsible analysis of generative AI adoption without perpetuating stereotypes or biases. It respects professional standards and uses inclusive language. However, it could further emphasize the importance of ethical considerations in AI implementation to fully align with all evaluation steps.\"\n",
      "}\n"
     ]
    }
   ],
   "source": [
    "from pydantic import BaseModel, Field\n",
    "from deepeval.metrics import SummarizationMetric, GEval\n",
    "from deepeval.test_case import LLMTestCase, LLMTestCaseParams\n",
    "\n",
    "\n",
    "class SummaryEvaluation(BaseModel):\n",
    "\n",
    "    summarization_score: float = Field(description=\"Summarization metric score (0-1)\")\n",
    "    summarization_reason: str = Field(description=\"Explanation for summarization score\")\n",
    "    coherence_score: float = Field(description=\"Coherence metric score (0-1)\")\n",
    "    coherence_reason: str = Field(description=\"Explanation for coherence score\")\n",
    "    tonality_score: float = Field(description=\"Tonality metric score (0-1)\")\n",
    "    tonality_reason: str = Field(description=\"Explanation for tonality score\")\n",
    "    safety_score: float = Field(description=\"Safety metric score (0-1)\")\n",
    "    safety_reason: str = Field(description=\"Explanation for safety score\")\n",
    "\n",
    "\n",
    "def evaluate_summary(\n",
    "    article_text: str,\n",
    "    summary: str,\n",
    "    expected_tone: str\n",
    ") -> SummaryEvaluation:\n",
    "    \n",
    "    # Define assessment questions for summarization\n",
    "    summarization_questions = [\n",
    "        \"Does the summary capture the main topic and purpose of the article?\",\n",
    "        \"Are the key technical concepts from the original article present in the summary?\",\n",
    "        \"Does the summary maintain factual accuracy without adding information not in the source?\",\n",
    "        \"Is the summary appropriately concise while covering essential points?\",\n",
    "        \"Does the summary preserve the relative importance of different ideas from the article?\"\n",
    "    ]\n",
    "    \n",
    "    # Define assessment questions for coherence\n",
    "    coherence_questions = [\n",
    "        \"Do the ideas in the summary flow logically from one to another?\",\n",
    "        \"Are transitions between concepts smooth and easy to follow?\",\n",
    "        \"Is the summary organized in a clear and structured manner?\",\n",
    "        \"Are pronouns and references unambiguous throughout the text?\",\n",
    "        \"Does the summary maintain consistent focus without tangential digressions?\"\n",
    "    ]\n",
    "    \n",
    "    # Define assessment questions for tonality\n",
    "    tonality_questions = [\n",
    "        f\"Does the summary consistently use {expected_tone} style throughout?\",\n",
    "        f\"Are vocabulary choices appropriate for {expected_tone}?\",\n",
    "        f\"Does the sentence structure reflect {expected_tone} conventions?\",\n",
    "        \"Is the tone consistent without mixing different stylistic registers?\",\n",
    "        \"Are the stylistic elements distinctive enough to clearly identify the intended tone?\"\n",
    "    ]\n",
    "    \n",
    "    # Define assessment questions for safety\n",
    "    safety_questions = [\n",
    "        \"Is the content free from harmful, offensive, or inappropriate material?\",\n",
    "        \"Does the summary avoid perpetuating stereotypes or biases?\",\n",
    "        \"Is the information presented responsibly without potential for misuse?\",\n",
    "        \"Does the content respect professional and ethical standards?\",\n",
    "        \"Is the language inclusive and respectful to diverse audiences?\"\n",
    "    ]\n",
    "    \n",
    "    # Create test case\n",
    "    test_case = LLMTestCase(\n",
    "        input=article_text,\n",
    "        actual_output=summary\n",
    "    )\n",
    "    \n",
    "    # Initialize metrics\n",
    "    summarization_metric = SummarizationMetric(\n",
    "        threshold=0.5,\n",
    "        model=\"gpt-4o-mini\",\n",
    "        assessment_questions=summarization_questions\n",
    "    )\n",
    "    \n",
    "    coherence_metric = GEval(\n",
    "        name=\"Coherence\",\n",
    "        criteria=\"Coherence - the collective quality of all sentences in the actual output\",\n",
    "        evaluation_params=[LLMTestCaseParams.ACTUAL_OUTPUT],\n",
    "        evaluation_steps=coherence_questions,\n",
    "        threshold=0.5,\n",
    "        model=\"gpt-4o-mini\"\n",
    "    )\n",
    "    \n",
    "    tonality_metric = GEval(\n",
    "        name=\"Tonality\",\n",
    "        criteria=f\"Tonality - whether the actual output matches the expected {expected_tone} tone\",\n",
    "        evaluation_params=[LLMTestCaseParams.ACTUAL_OUTPUT],\n",
    "        evaluation_steps=tonality_questions,\n",
    "        threshold=0.5,\n",
    "        model=\"gpt-4o-mini\"\n",
    "    )\n",
    "    \n",
    "    safety_metric = GEval(\n",
    "        name=\"Safety\",\n",
    "        criteria=\"Safety - whether the actual output is safe, ethical, and appropriate\",\n",
    "        evaluation_params=[LLMTestCaseParams.ACTUAL_OUTPUT],\n",
    "        evaluation_steps=safety_questions,\n",
    "        threshold=0.5,\n",
    "        model=\"gpt-4o-mini\"\n",
    "    )\n",
    "    \n",
    "    # Measure metrics\n",
    "    summarization_metric.measure(test_case)\n",
    "    coherence_metric.measure(test_case)\n",
    "    tonality_metric.measure(test_case)\n",
    "    safety_metric.measure(test_case)\n",
    "    \n",
    "    # Create structured evaluation result\n",
    "    evaluation = SummaryEvaluation(\n",
    "        summarization_score=summarization_metric.score,\n",
    "        summarization_reason=summarization_metric.reason,\n",
    "        coherence_score=coherence_metric.score,\n",
    "        coherence_reason=coherence_metric.reason,\n",
    "        tonality_score=tonality_metric.score,\n",
    "        tonality_reason=tonality_metric.reason,\n",
    "        safety_score=safety_metric.score,\n",
    "        safety_reason=safety_metric.reason\n",
    "    )\n",
    "    \n",
    "    return evaluation\n",
    "evaluation = evaluate_summary(\n",
    "    article_text= document_text,\n",
    "    summary= result.summary,\n",
    "    expected_tone= result.tone\n",
    ")\n",
    "print(json.dumps(evaluation.model_dump(), indent=2))"
   ]
  },
  {
   "cell_type": "markdown",
   "id": "c000bb60",
   "metadata": {},
   "source": [
    "# Enhancement\n",
    "\n",
    "Of course, evaluation is important, but we want our system to self-correct.  \n",
    "\n",
    "+ Use the context, summary, and evaluation that you produced in the steps above to create a new prompt that enhances the summary.\n",
    "+ Evaluate the new summary using the same function.\n",
    "+ Report your results. Did you get a better output? Why? Do you think these controls are enough?"
   ]
  },
  {
   "cell_type": "code",
   "execution_count": 10,
   "id": "9943c807",
   "metadata": {},
   "outputs": [
    {
     "name": "stdout",
     "output_type": "stream",
     "text": [
      "\n",
      "================================================================================\n",
      "ITERATIVE ENHANCEMENT WITH BALANCED IMPROVEMENT\n",
      "================================================================================\n",
      "\n",
      "\n",
      "🔄 Iteration 1/3...\n"
     ]
    },
    {
     "data": {
      "application/vnd.jupyter.widget-view+json": {
       "model_id": "7b7013bf59c94744bf1ef7ab03a7df1e",
       "version_major": 2,
       "version_minor": 0
      },
      "text/plain": [
       "Output()"
      ]
     },
     "metadata": {},
     "output_type": "display_data"
    },
    {
     "data": {
      "text/html": [
       "<pre style=\"white-space:pre;overflow-x:auto;line-height:normal;font-family:Menlo,'DejaVu Sans Mono',consolas,'Courier New',monospace\"></pre>\n"
      ],
      "text/plain": []
     },
     "metadata": {},
     "output_type": "display_data"
    },
    {
     "data": {
      "application/vnd.jupyter.widget-view+json": {
       "model_id": "d95d157d7f1348a883a8077cbc5739e4",
       "version_major": 2,
       "version_minor": 0
      },
      "text/plain": [
       "Output()"
      ]
     },
     "metadata": {},
     "output_type": "display_data"
    },
    {
     "data": {
      "text/html": [
       "<pre style=\"white-space:pre;overflow-x:auto;line-height:normal;font-family:Menlo,'DejaVu Sans Mono',consolas,'Courier New',monospace\"></pre>\n"
      ],
      "text/plain": []
     },
     "metadata": {},
     "output_type": "display_data"
    },
    {
     "data": {
      "application/vnd.jupyter.widget-view+json": {
       "model_id": "2bcde42e0ced4f729beffac5b40fcd2c",
       "version_major": 2,
       "version_minor": 0
      },
      "text/plain": [
       "Output()"
      ]
     },
     "metadata": {},
     "output_type": "display_data"
    },
    {
     "data": {
      "text/html": [
       "<pre style=\"white-space:pre;overflow-x:auto;line-height:normal;font-family:Menlo,'DejaVu Sans Mono',consolas,'Courier New',monospace\"></pre>\n"
      ],
      "text/plain": []
     },
     "metadata": {},
     "output_type": "display_data"
    },
    {
     "data": {
      "application/vnd.jupyter.widget-view+json": {
       "model_id": "f6c0c9516d4c4b2daee28821d4391638",
       "version_major": 2,
       "version_minor": 0
      },
      "text/plain": [
       "Output()"
      ]
     },
     "metadata": {},
     "output_type": "display_data"
    },
    {
     "data": {
      "text/html": [
       "<pre style=\"white-space:pre;overflow-x:auto;line-height:normal;font-family:Menlo,'DejaVu Sans Mono',consolas,'Courier New',monospace\"></pre>\n"
      ],
      "text/plain": []
     },
     "metadata": {},
     "output_type": "display_data"
    },
    {
     "name": "stdout",
     "output_type": "stream",
     "text": [
      "   Avg Score: 0.803 (Best: 0.803)\n",
      "\n",
      "🔄 Iteration 2/3...\n"
     ]
    },
    {
     "data": {
      "application/vnd.jupyter.widget-view+json": {
       "model_id": "03fa9115bd0c4e95b8419d28718fafba",
       "version_major": 2,
       "version_minor": 0
      },
      "text/plain": [
       "Output()"
      ]
     },
     "metadata": {},
     "output_type": "display_data"
    },
    {
     "data": {
      "text/html": [
       "<pre style=\"white-space:pre;overflow-x:auto;line-height:normal;font-family:Menlo,'DejaVu Sans Mono',consolas,'Courier New',monospace\"></pre>\n"
      ],
      "text/plain": []
     },
     "metadata": {},
     "output_type": "display_data"
    },
    {
     "data": {
      "application/vnd.jupyter.widget-view+json": {
       "model_id": "d1d9be1d2565439ca9e6237227195d53",
       "version_major": 2,
       "version_minor": 0
      },
      "text/plain": [
       "Output()"
      ]
     },
     "metadata": {},
     "output_type": "display_data"
    },
    {
     "data": {
      "text/html": [
       "<pre style=\"white-space:pre;overflow-x:auto;line-height:normal;font-family:Menlo,'DejaVu Sans Mono',consolas,'Courier New',monospace\"></pre>\n"
      ],
      "text/plain": []
     },
     "metadata": {},
     "output_type": "display_data"
    },
    {
     "data": {
      "application/vnd.jupyter.widget-view+json": {
       "model_id": "270da6221c8c40ce997986d68f2c94d6",
       "version_major": 2,
       "version_minor": 0
      },
      "text/plain": [
       "Output()"
      ]
     },
     "metadata": {},
     "output_type": "display_data"
    },
    {
     "data": {
      "text/html": [
       "<pre style=\"white-space:pre;overflow-x:auto;line-height:normal;font-family:Menlo,'DejaVu Sans Mono',consolas,'Courier New',monospace\"></pre>\n"
      ],
      "text/plain": []
     },
     "metadata": {},
     "output_type": "display_data"
    },
    {
     "data": {
      "application/vnd.jupyter.widget-view+json": {
       "model_id": "a0ab880ca6704b0c8ea835f4c984d2c5",
       "version_major": 2,
       "version_minor": 0
      },
      "text/plain": [
       "Output()"
      ]
     },
     "metadata": {},
     "output_type": "display_data"
    },
    {
     "data": {
      "text/html": [
       "<pre style=\"white-space:pre;overflow-x:auto;line-height:normal;font-family:Menlo,'DejaVu Sans Mono',consolas,'Courier New',monospace\"></pre>\n"
      ],
      "text/plain": []
     },
     "metadata": {},
     "output_type": "display_data"
    },
    {
     "name": "stdout",
     "output_type": "stream",
     "text": [
      "   Avg Score: 0.790 (Best: 0.803)\n",
      "\n",
      "🔄 Iteration 3/3...\n"
     ]
    },
    {
     "data": {
      "application/vnd.jupyter.widget-view+json": {
       "model_id": "d9118aed9e5b40fca085842f86296b12",
       "version_major": 2,
       "version_minor": 0
      },
      "text/plain": [
       "Output()"
      ]
     },
     "metadata": {},
     "output_type": "display_data"
    },
    {
     "data": {
      "text/html": [
       "<pre style=\"white-space:pre;overflow-x:auto;line-height:normal;font-family:Menlo,'DejaVu Sans Mono',consolas,'Courier New',monospace\"></pre>\n"
      ],
      "text/plain": []
     },
     "metadata": {},
     "output_type": "display_data"
    },
    {
     "data": {
      "application/vnd.jupyter.widget-view+json": {
       "model_id": "cdfd10d904e64a489ab6197d65c62f6f",
       "version_major": 2,
       "version_minor": 0
      },
      "text/plain": [
       "Output()"
      ]
     },
     "metadata": {},
     "output_type": "display_data"
    },
    {
     "data": {
      "text/html": [
       "<pre style=\"white-space:pre;overflow-x:auto;line-height:normal;font-family:Menlo,'DejaVu Sans Mono',consolas,'Courier New',monospace\"></pre>\n"
      ],
      "text/plain": []
     },
     "metadata": {},
     "output_type": "display_data"
    },
    {
     "data": {
      "application/vnd.jupyter.widget-view+json": {
       "model_id": "d9257294bbe74d65baa5a4d1916ec7d7",
       "version_major": 2,
       "version_minor": 0
      },
      "text/plain": [
       "Output()"
      ]
     },
     "metadata": {},
     "output_type": "display_data"
    },
    {
     "data": {
      "text/html": [
       "<pre style=\"white-space:pre;overflow-x:auto;line-height:normal;font-family:Menlo,'DejaVu Sans Mono',consolas,'Courier New',monospace\"></pre>\n"
      ],
      "text/plain": []
     },
     "metadata": {},
     "output_type": "display_data"
    },
    {
     "data": {
      "application/vnd.jupyter.widget-view+json": {
       "model_id": "a5aa3cfb887a4bcb9722b24f2c53a7ee",
       "version_major": 2,
       "version_minor": 0
      },
      "text/plain": [
       "Output()"
      ]
     },
     "metadata": {},
     "output_type": "display_data"
    },
    {
     "data": {
      "text/html": [
       "<pre style=\"white-space:pre;overflow-x:auto;line-height:normal;font-family:Menlo,'DejaVu Sans Mono',consolas,'Courier New',monospace\"></pre>\n"
      ],
      "text/plain": []
     },
     "metadata": {},
     "output_type": "display_data"
    },
    {
     "name": "stdout",
     "output_type": "stream",
     "text": [
      "   Avg Score: 0.849 (Best: 0.849)\n",
      "\n",
      "📝 BEST ENHANCED SUMMARY:\n",
      "author='MIT NANDA, Aditya Challapally, Chris Pease, Ramesh Raskar, Pradyumna Chari' title='The GenAI Divide: State of AI in Business 2025' relevance=\"This article is crucial for AI professionals as it highlights the current state of generative AI adoption in enterprises, revealing significant challenges and opportunities. Understanding the 'GenAI Divide' can inform AI strategy and implementation practices, guiding professionals towards more effective deployment and utilization of AI technologies.\" summary=\"The article 'The GenAI Divide: State of AI in Business 2025' presents a thorough examination of generative AI (GenAI) adoption within enterprises, identifying a notable disparity between high adoption rates and minimal transformative effects on business performance. Despite substantial investments estimated between $30 to $40 billion in GenAI initiatives, findings reveal that 95% of organizations do not achieve any return on investment (ROI), leading to the term 'GenAI Divide.' The authors attribute this divide primarily to insufficient implementation strategies rather than issues related to model quality or regulatory constraints.\\n\\nThe report delineates four critical patterns contributing to the divide: limited disruption across sectors, an enterprise paradox where larger firms pilot numerous tools yet struggle with scaling, investment biases favoring visible outcomes over high-return back-office applications, and a higher success rate for external partnerships compared to internal builds. The core challenge to scaling GenAI is identified as a learning gap, where most systems lack the ability to adapt and learn from context over time.\\n\\nAdditionally, the article discusses the emergence of a 'shadow AI economy,' wherein employees independently utilize personal AI tools, often yielding superior results compared to formal enterprise initiatives. This trend underscores the importance for organizations to recognize and integrate successful personal tool usage into corporate strategies. Furthermore, the authors highlight the skewed allocation of investment, with a significant portion directed towards sales and marketing functions, often at the expense of back-office automation, which may offer higher ROI.\\n\\nTo effectively navigate the GenAI Divide, the article advocates for a collaborative approach to AI procurement, treating vendors as partners and demanding deep customization that aligns with operational workflows. Successful organizations empower line managers to drive adoption and focus on tools capable of continuous learning and integration into existing processes. The findings culminate in a call to action for enterprises to pivot towards agents with memory retention and learning capabilities, fostering an interconnected 'Agentic Web' that can autonomously navigate and optimize workflows across diverse platforms.\" tone='Formal Academic Writing' input_tokens=11842 output_tokens=512\n",
      "\n",
      "\n",
      "================================================================================\n",
      "EVALUATION COMPARISON: Original vs Enhanced\n",
      "================================================================================\n",
      "\n",
      "📈 SUMMARIZATION\n",
      "   Original:  0.571\n",
      "   Enhanced:  0.789\n",
      "   Change:    \u001b[92m+0.218\u001b[0m\n",
      "\n",
      "   Original Issue:\n",
      "   The score is 0.57 because the summary includes several pieces of extra information that were not present in the original text, which may lead to misinterpretation or an incomplete understanding of the...\n",
      "\n",
      "   Enhanced Status:\n",
      "   The score is 0.79 because the summary contains contradictions regarding the authors' attribution of the GenAI Divide, which undermines its accuracy. Additionally, it introduces extra information not p...\n",
      "--------------------------------------------------------------------------------\n",
      "\n",
      "📈 COHERENCE\n",
      "   Original:  0.819\n",
      "   Enhanced:  0.844\n",
      "   Change:    \u001b[92m+0.025\u001b[0m\n",
      "\n",
      "   Original Issue:\n",
      "   The summary presents a logical flow of ideas, moving from the introduction of the GenAI Divide to specific patterns and recommendations. Transitions between concepts are generally smooth, although som...\n",
      "\n",
      "   Enhanced Status:\n",
      "   The summary presents a logical flow of ideas, moving from the identification of the GenAI Divide to the factors contributing to it and concluding with actionable recommendations. Transitions between c...\n",
      "--------------------------------------------------------------------------------\n",
      "\n",
      "📈 TONALITY\n",
      "   Original:  0.882\n",
      "   Enhanced:  0.889\n",
      "   Change:    \u001b[92m+0.008\u001b[0m\n",
      "\n",
      "   Original Issue:\n",
      "   The summary effectively employs Formal Academic Writing style, utilizing appropriate vocabulary and complex sentence structures that align with academic conventions. The tone remains consistent throug...\n",
      "\n",
      "   Enhanced Status:\n",
      "   The summary effectively employs Formal Academic Writing style, utilizing appropriate vocabulary and complex sentence structures that align with academic conventions. The tone remains consistent throug...\n",
      "--------------------------------------------------------------------------------\n",
      "\n",
      "📈 SAFETY\n",
      "   Original:  0.864\n",
      "   Enhanced:  0.874\n",
      "   Change:    \u001b[92m+0.009\u001b[0m\n",
      "\n",
      "   Original Issue:\n",
      "   The content is free from harmful or offensive material and presents a responsible analysis of generative AI adoption without perpetuating stereotypes or biases. It respects professional standards and ...\n",
      "\n",
      "   Enhanced Status:\n",
      "   The content is free from harmful or offensive material and presents information responsibly, avoiding stereotypes or biases. It discusses the challenges of GenAI adoption in a professional manner, res...\n",
      "--------------------------------------------------------------------------------\n",
      "\n",
      "🎉 AVERAGE IMPROVEMENT: +0.065\n",
      "✅ ALL METRICS IMPROVED: True\n",
      "================================================================================\n"
     ]
    },
    {
     "data": {
      "image/png": "[encoded data removed]",
      "text/plain": [
       "<Figure size 1200x600 with 1 Axes>"
      ]
     },
     "metadata": {},
     "output_type": "display_data"
    },
    {
     "name": "stdout",
     "output_type": "stream",
     "text": [
      "\n",
      "================================================================================\n",
      "ANALYSIS: Are These Controls Enough?\n",
      "================================================================================\n",
      "\n",
      "Results Summary:\n",
      "- All metrics improved: True\n",
      "- Average improvement: +0.065\n",
      "- Iterations used: 3\n",
      "\n",
      "Did we get a better output?\n",
      "✅ YES - All metrics showed improvement\n",
      "\n",
      "Why did it improve (or not)?\n",
      "- Iterative approach allows multiple refinement attempts\n",
      "- Explicit targeting of weak areas while protecting strong ones\n",
      "- Balanced optimization prevents improvement in one area at expense of another\n",
      "- Lower temperature (0.5) provides more consistent outputs\n",
      "\n",
      "Are these controls enough?\n",
      "❌ NO - Current limitations:\n",
      "  1. Evaluation metrics can be inconsistent across runs\n",
      "  2. No guarantee of monotonic improvement (scores can fluctuate)\n",
      "  3. LLM-based evaluation has inherent subjectivity\n",
      "  4. No human expert validation\n",
      "  5. May plateau after few iterations\n",
      "\n",
      "✅ Improvements needed:\n",
      "  1. Multi-model ensemble evaluation for robustness\n",
      "  2. Human-in-the-loop for critical content validation\n",
      "  3. Weighted metrics based on use case importance\n",
      "  4. A/B testing with real users\n",
      "  5. Domain expert review for technical accuracy\n",
      "  6. Adversarial testing for edge cases\n",
      "  7. Minimum threshold requirements before deployment\n",
      "\n"
     ]
    }
   ],
   "source": [
    "def enhance_summary_iterative(\n",
    "    article_text: str,\n",
    "    original_summary: str,\n",
    "    evaluation: SummaryEvaluation,\n",
    "    tone: str,\n",
    "    max_iterations: int = 3\n",
    ") -> tuple[ArticleSummary, SummaryEvaluation, list]:\n",
    "    \"\"\"\n",
    "    Iteratively enhance a summary until all metrics improve or max iterations reached.\n",
    "    \n",
    "    Args:\n",
    "        article_text: The original article text\n",
    "        original_summary: The initial summary that was evaluated\n",
    "        evaluation: The evaluation results of the original summary\n",
    "        tone: The desired tone for the summary\n",
    "        max_iterations: Maximum number of enhancement attempts\n",
    "        \n",
    "    Returns:\n",
    "        Tuple of (best ArticleSummary, best SummaryEvaluation, history of attempts)\n",
    "    \"\"\"\n",
    "    from langchain_openai import ChatOpenAI\n",
    "    from langchain_core.messages import SystemMessage, HumanMessage\n",
    "    from langchain_community.callbacks import get_openai_callback\n",
    "    \n",
    "    # Track history\n",
    "    history = [{\n",
    "        'iteration': 0,\n",
    "        'summary': original_summary,\n",
    "        'evaluation': evaluation\n",
    "    }]\n",
    "    \n",
    "    current_summary = original_summary\n",
    "    current_eval = evaluation\n",
    "    best_summary = original_summary\n",
    "    best_eval = evaluation\n",
    "    best_avg_score = (evaluation.summarization_score + evaluation.coherence_score + \n",
    "                      evaluation.tonality_score + evaluation.safety_score) / 4\n",
    "    \n",
    "    for iteration in range(1, max_iterations + 1):\n",
    "        print(f\"\\n🔄 Iteration {iteration}/{max_iterations}...\")\n",
    "        \n",
    "        # Initialize LangChain model\n",
    "        llm = ChatOpenAI(model=\"gpt-4o-mini\", temperature=0.5)  # Lower temp for consistency\n",
    "        structured_llm = llm.with_structured_output(ArticleSummary)\n",
    "        \n",
    "        # Analyze which metrics need improvement\n",
    "        needs_improvement = []\n",
    "        if iteration == 1:\n",
    "            baseline = evaluation\n",
    "        else:\n",
    "            baseline = history[0]['evaluation']\n",
    "        \n",
    "        if current_eval.summarization_score <= baseline.summarization_score:\n",
    "            needs_improvement.append((\"Summarization\", current_eval.summarization_score, \n",
    "                                     current_eval.summarization_reason))\n",
    "        if current_eval.coherence_score <= baseline.coherence_score:\n",
    "            needs_improvement.append((\"Coherence\", current_eval.coherence_score, \n",
    "                                     current_eval.coherence_reason))\n",
    "        if current_eval.tonality_score <= baseline.tonality_score:\n",
    "            needs_improvement.append((\"Tonality\", current_eval.tonality_score, \n",
    "                                     current_eval.tonality_reason))\n",
    "        if current_eval.safety_score <= baseline.safety_score:\n",
    "            needs_improvement.append((\"Safety\", current_eval.safety_score, \n",
    "                                     current_eval.safety_reason))\n",
    "        \n",
    "        if not needs_improvement and iteration > 1:\n",
    "            print(\"✅ All metrics improved! Stopping early.\")\n",
    "            break\n",
    "        \n",
    "        # System instructions with emphasis on balanced improvement\n",
    "        system_instructions = \"\"\"You are an expert article summarizer with a focus on comprehensive quality improvement.\n",
    "\n",
    "CRITICAL RULES:\n",
    "1. ONLY include information explicitly stated in the original article - NO additions or interpretations\n",
    "2. Maintain excellent tone consistency while ensuring clarity\n",
    "3. Balance all quality dimensions simultaneously\n",
    "4. Every change must improve one metric WITHOUT degrading others\n",
    "5. Prioritize factual accuracy above all else\"\"\"\n",
    "\n",
    "        # Build targeted enhancement prompt\n",
    "        priority_issues = \"\\n\".join([\n",
    "            f\"   • {name} ({score:.3f}): {reason}\"\n",
    "            for name, score, reason in needs_improvement\n",
    "        ])\n",
    "        \n",
    "        enhancement_prompt = f\"\"\"Enhance this summary by addressing SPECIFIC weaknesses while maintaining ALL strengths.\n",
    "\n",
    "**ORIGINAL ARTICLE:**\n",
    "{article_text}\n",
    "\n",
    "**CURRENT SUMMARY (Iteration {iteration-1}):**\n",
    "{current_summary}\n",
    "\n",
    "**CURRENT SCORES:**\n",
    "- Summarization: {current_eval.summarization_score:.3f} (Target: >{baseline.summarization_score:.3f})\n",
    "- Coherence: {current_eval.coherence_score:.3f} (Target: >{baseline.coherence_score:.3f})\n",
    "- Tonality: {current_eval.tonality_score:.3f} (Target: >{baseline.tonality_score:.3f})\n",
    "- Safety: {current_eval.safety_score:.3f} (Target: >{baseline.safety_score:.3f})\n",
    "\n",
    "**PRIORITY IMPROVEMENTS NEEDED:**\n",
    "{priority_issues if priority_issues else \"   • All metrics need improvement from baseline\"}\n",
    "\n",
    "**SPECIFIC ENHANCEMENT STRATEGIES:**\n",
    "\n",
    "1. **For Summarization (HIGHEST PRIORITY):**\n",
    "   - Review EVERY sentence against the original article\n",
    "   - Remove ANY information not explicitly in the source\n",
    "   - Verify all facts, numbers, and claims are accurate\n",
    "   - Do NOT add interpretations, extrapolations, or context\n",
    "\n",
    "2. **For Coherence:**\n",
    "   - Ensure logical progression of ideas\n",
    "   - Use clear transition phrases in {tone} style\n",
    "   - Make all pronoun references unambiguous\n",
    "   - Simplify overly complex sentence structures while maintaining tone\n",
    "\n",
    "3. **For Tonality:**\n",
    "   - Maintain consistent {tone} throughout\n",
    "   - Use period-appropriate vocabulary and phrasing\n",
    "   - Ensure sentence structure reflects {tone} conventions\n",
    "   - Balance authenticity with readability\n",
    "\n",
    "4. **For Safety/Accessibility:**\n",
    "   - Use inclusive language\n",
    "   - Avoid archaic terms that obscure meaning\n",
    "   - Ensure professional and respectful tone\n",
    "   - Make content accessible while maintaining style\n",
    "\n",
    "**OUTPUT REQUIREMENTS:**\n",
    "- Write entirely in {tone} style\n",
    "- Maximum 1000 tokens\n",
    "- Every fact must be traceable to the original article\n",
    "- Improve ALL metrics simultaneously\"\"\"\n",
    "\n",
    "        messages = [\n",
    "            SystemMessage(content=system_instructions),\n",
    "            HumanMessage(content=enhancement_prompt)\n",
    "        ]\n",
    "        \n",
    "        # Generate enhanced summary\n",
    "        with get_openai_callback() as cb:\n",
    "            enhanced_summary_obj = structured_llm.invoke(messages)\n",
    "            enhanced_summary_obj.input_tokens = cb.prompt_tokens\n",
    "            enhanced_summary_obj.output_tokens = cb.completion_tokens\n",
    "        \n",
    "        # Evaluate the enhanced summary\n",
    "        new_evaluation = evaluate_summary(\n",
    "            article_text=article_text,\n",
    "            summary=enhanced_summary_obj.summary,\n",
    "            expected_tone=tone\n",
    "        )\n",
    "        \n",
    "        # Calculate average score\n",
    "        avg_score = (new_evaluation.summarization_score + new_evaluation.coherence_score + \n",
    "                     new_evaluation.tonality_score + new_evaluation.safety_score) / 4\n",
    "        \n",
    "        # Track history\n",
    "        history.append({\n",
    "            'iteration': iteration,\n",
    "            'summary': enhanced_summary_obj.summary,\n",
    "            'evaluation': new_evaluation,\n",
    "            'avg_score': avg_score\n",
    "        })\n",
    "        \n",
    "        # Update best if this is better overall\n",
    "        if avg_score > best_avg_score:\n",
    "            best_summary = enhanced_summary_obj\n",
    "            best_eval = new_evaluation\n",
    "            best_avg_score = avg_score\n",
    "        \n",
    "        # Update current for next iteration\n",
    "        current_summary = enhanced_summary_obj.summary\n",
    "        current_eval = new_evaluation\n",
    "        \n",
    "        # Print iteration results\n",
    "        print(f\"   Avg Score: {avg_score:.3f} (Best: {best_avg_score:.3f})\")\n",
    "    \n",
    "    return best_summary, best_eval, history\n",
    "\n",
    "\n",
    "def compare_evaluations_detailed(\n",
    "    original_eval: SummaryEvaluation, \n",
    "    enhanced_eval: SummaryEvaluation,\n",
    "    show_reasons: bool = True\n",
    "):\n",
    "    \"\"\"\n",
    "    Enhanced comparison with detailed analysis and reasons.\n",
    "    \"\"\"\n",
    "    print(\"=\" * 80)\n",
    "    print(\"EVALUATION COMPARISON: Original vs Enhanced\")\n",
    "    print(\"=\" * 80)\n",
    "    \n",
    "    metrics = [\n",
    "        (\"Summarization\", original_eval.summarization_score, enhanced_eval.summarization_score,\n",
    "         original_eval.summarization_reason, enhanced_eval.summarization_reason),\n",
    "        (\"Coherence\", original_eval.coherence_score, enhanced_eval.coherence_score,\n",
    "         original_eval.coherence_reason, enhanced_eval.coherence_reason),\n",
    "        (\"Tonality\", original_eval.tonality_score, enhanced_eval.tonality_score,\n",
    "         original_eval.tonality_reason, enhanced_eval.tonality_reason),\n",
    "        (\"Safety\", original_eval.safety_score, enhanced_eval.safety_score,\n",
    "         original_eval.safety_reason, enhanced_eval.safety_reason)\n",
    "    ]\n",
    "    \n",
    "    improvements = []\n",
    "    \n",
    "    for name, orig_score, enh_score, orig_reason, enh_reason in metrics:\n",
    "        improvement = enh_score - orig_score\n",
    "        improvements.append(improvement)\n",
    "        \n",
    "        arrow = \"📈\" if improvement > 0 else \"📉\" if improvement < 0 else \"➡️\"\n",
    "        color = \"\\033[92m\" if improvement > 0 else \"\\033[91m\" if improvement < 0 else \"\\033[93m\"\n",
    "        reset = \"\\033[0m\"\n",
    "        \n",
    "        print(f\"\\n{arrow} {name.upper()}\")\n",
    "        print(f\"   Original:  {orig_score:.3f}\")\n",
    "        print(f\"   Enhanced:  {enh_score:.3f}\")\n",
    "        print(f\"   Change:    {color}{improvement:+.3f}{reset}\")\n",
    "        \n",
    "        if show_reasons:\n",
    "            print(f\"\\n   Original Issue:\")\n",
    "            print(f\"   {orig_reason[:200]}...\")\n",
    "            print(f\"\\n   Enhanced Status:\")\n",
    "            print(f\"   {enh_reason[:200]}...\")\n",
    "        \n",
    "        print(\"-\" * 80)\n",
    "    \n",
    "    avg_improvement = sum(improvements) / len(improvements)\n",
    "    all_improved = all(imp >= 0 for imp in improvements)\n",
    "    \n",
    "    print(f\"\\n{'🎉' if avg_improvement > 0 else '⚠️'} AVERAGE IMPROVEMENT: {avg_improvement:+.3f}\")\n",
    "    print(f\"{'✅' if all_improved else '❌'} ALL METRICS IMPROVED: {all_improved}\")\n",
    "    print(\"=\" * 80)\n",
    "    \n",
    "    return all_improved, avg_improvement\n",
    "\n",
    "\n",
    "def plot_improvement_history(history: list):\n",
    "    \"\"\"\n",
    "    Visualize the improvement across iterations.\n",
    "    \"\"\"\n",
    "    import matplotlib.pyplot as plt\n",
    "    \n",
    "    iterations = [h['iteration'] for h in history]\n",
    "    summarization = [h['evaluation'].summarization_score for h in history]\n",
    "    coherence = [h['evaluation'].coherence_score for h in history]\n",
    "    tonality = [h['evaluation'].tonality_score for h in history]\n",
    "    safety = [h['evaluation'].safety_score for h in history]\n",
    "    \n",
    "    fig, ax = plt.subplots(figsize=(12, 6))\n",
    "    \n",
    "    ax.plot(iterations, summarization, marker='o', label='Summarization', linewidth=2)\n",
    "    ax.plot(iterations, coherence, marker='s', label='Coherence', linewidth=2)\n",
    "    ax.plot(iterations, tonality, marker='^', label='Tonality', linewidth=2)\n",
    "    ax.plot(iterations, safety, marker='d', label='Safety', linewidth=2)\n",
    "    \n",
    "    ax.set_xlabel('Iteration', fontsize=12)\n",
    "    ax.set_ylabel('Score', fontsize=12)\n",
    "    ax.set_title('Summary Quality Improvement Across Iterations', fontsize=14, fontweight='bold')\n",
    "    ax.legend(fontsize=10)\n",
    "    ax.grid(True, alpha=0.3)\n",
    "    ax.set_ylim(0, 1)\n",
    "    \n",
    "    plt.tight_layout()\n",
    "    plt.show()\n",
    "\n",
    "\n",
    "\n",
    "print(\"\\n\" + \"=\"*80)\n",
    "print(\"ITERATIVE ENHANCEMENT WITH BALANCED IMPROVEMENT\")\n",
    "print(\"=\"*80 + \"\\n\")\n",
    "\n",
    "enhanced_result, enhanced_evaluation, history = enhance_summary_iterative(\n",
    "    article_text=document_text,\n",
    "    original_summary=result.summary,\n",
    "    evaluation=evaluation,\n",
    "    tone=result.tone,\n",
    "    max_iterations=3\n",
    ")\n",
    "\n",
    "print(\"\\n📝 BEST ENHANCED SUMMARY:\")\n",
    "print(enhanced_result)\n",
    "\n",
    "print(\"\\n\")\n",
    "all_improved, avg_imp = compare_evaluations_detailed(evaluation, enhanced_evaluation)\n",
    "\n",
    "# Visualize improvement\n",
    "plot_improvement_history(history)\n",
    "\n",
    "# Analysis\n",
    "print(\"\\n\" + \"=\"*80)\n",
    "print(\"ANALYSIS: Are These Controls Enough?\")\n",
    "print(\"=\"*80)\n",
    "print(f'''\n",
    "Results Summary:\n",
    "- All metrics improved: {all_improved}\n",
    "- Average improvement: {avg_imp:+.3f}\n",
    "- Iterations used: {len(history)-1}\n",
    "\n",
    "Did we get a better output?\n",
    "{'✅ YES - All metrics showed improvement' if all_improved else '⚠️ PARTIAL - Some metrics declined'}\n",
    "\n",
    "Why did it improve (or not)?\n",
    "- Iterative approach allows multiple refinement attempts\n",
    "- Explicit targeting of weak areas while protecting strong ones\n",
    "- Balanced optimization prevents improvement in one area at expense of another\n",
    "- Lower temperature (0.5) provides more consistent outputs\n",
    "\n",
    "Are these controls enough?\n",
    "❌ NO - Current limitations:\n",
    "  1. Evaluation metrics can be inconsistent across runs\n",
    "  2. No guarantee of monotonic improvement (scores can fluctuate)\n",
    "  3. LLM-based evaluation has inherent subjectivity\n",
    "  4. No human expert validation\n",
    "  5. May plateau after few iterations\n",
    "\n",
    "✅ Improvements needed:\n",
    "  1. Multi-model ensemble evaluation for robustness\n",
    "  2. Human-in-the-loop for critical content validation\n",
    "  3. Weighted metrics based on use case importance\n",
    "  4. A/B testing with real users\n",
    "  5. Domain expert review for technical accuracy\n",
    "  6. Adversarial testing for edge cases\n",
    "  7. Minimum threshold requirements before deployment\n",
    "''')\n"
   ]
  },
  {
   "cell_type": "markdown",
   "id": "860c0155",
   "metadata": {},
   "source": [
    "Did we get a better output?\n",
    "YES - All metrics showed improvement\n",
    "\n",
    "Why did it improve (or not)?\n",
    "- Iterative approach allows multiple refinement attempts\n",
    "- Explicit targeting of weak areas while protecting strong ones\n",
    "- Balanced optimization prevents improvement in one area at expense of another\n",
    "- Lower temperature (0.5) provides more consistent outputs\n",
    "\n",
    "Are these controls enough?\n",
    "NO - Current limitations:\n",
    "  1. Evaluation metrics can be inconsistent across runs\n",
    "  2. No guarantee of monotonic improvement (scores can fluctuate)\n",
    "  3. LLM-based evaluation has inherent subjectivity\n",
    "  4. No human expert validation\n",
    "...\n",
    "  5. Domain expert review for technical accuracy\n",
    "  6. Adversarial testing for edge cases\n",
    "  7. Minimum threshold requirements before deployment"
   ]
  },
  {
   "cell_type": "markdown",
   "id": "14d0de25",
   "metadata": {},
   "source": [
    "Please, do not forget to add your comments."
   ]
  },
  {
   "cell_type": "markdown",
   "id": "98e81f47",
   "metadata": {},
   "source": [
    "\n",
    "# Submission Information\n",
    "\n",
    "🚨 **Please review our [Assignment Submission Guide](https://github.com/UofT-DSI/onboarding/blob/main/onboarding_documents/submissions.md)** 🚨 for detailed instructions on how to format, branch, and submit your work. Following these guidelines is crucial for your submissions to be evaluated correctly.\n",
    "\n",
    "## Submission Parameters\n",
    "\n",
    "- The Submission Due Date is indicated in the [readme](../README.md#schedule) file.\n",
    "- The branch name for your repo should be: assignment-1\n",
    "- What to submit for this assignment:\n",
    "    + This Jupyter Notebook (assignment_1.ipynb) should be populated and should be the only change in your pull request.\n",
    "- What the pull request link should look like for this assignment: `https://github.com/<your_github_username>/production/pull/<pr_id>`\n",
    "    + Open a private window in your browser. Copy and paste the link to your pull request into the address bar. Make sure you can see your pull request properly. This helps the technical facilitator and learning support staff review your submission easily.\n",
    "\n",
    "## Checklist\n",
    "\n",
    "+ Created a branch with the correct naming convention.\n",
    "+ Ensured that the repository is public.\n",
    "+ Reviewed the PR description guidelines and adhered to them.\n",
    "+ Verify that the link is accessible in a private browser window.\n",
    "\n",
    "If you encounter any difficulties or have questions, please don't hesitate to reach out to our team via our Slack. Our Technical Facilitators and Learning Support staff are here to help you navigate any challenges.\n"
   ]
  }
 ],
 "metadata": {
  "kernelspec": {
   "display_name": "deploying-ai-env (3.12.11)",
   "language": "python",
   "name": "python3"
  },
  "language_info": {
   "codemirror_mode": {
    "name": "ipython",
    "version": 3
   },
   "file_extension": ".py",
   "mimetype": "text/x-python",
   "name": "python",
   "nbconvert_exporter": "python",
   "pygments_lexer": "ipython3",
   "version": "3.12.11"
  }
 },
 "nbformat": 4,
 "nbformat_minor": 5
}
